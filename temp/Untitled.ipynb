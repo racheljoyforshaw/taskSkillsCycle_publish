{
 "cells": [
  {
   "cell_type": "code",
   "execution_count": 1,
   "id": "bf37ac30",
   "metadata": {},
   "outputs": [],
   "source": [
    "import numpy as np"
   ]
  },
  {
   "cell_type": "code",
   "execution_count": 3,
   "id": "d504dbbf",
   "metadata": {},
   "outputs": [],
   "source": [
    "list_2q = np.loadtxt(\"2q_persid.txt\")"
   ]
  },
  {
   "cell_type": "code",
   "execution_count": 38,
   "id": "f87464c1",
   "metadata": {},
   "outputs": [],
   "source": [
    "u, c = np.unique(list_2q, return_counts=True)\n",
    "dup = u[c > 1]"
   ]
  },
  {
   "cell_type": "code",
   "execution_count": 4,
   "id": "f937e1f8",
   "metadata": {},
   "outputs": [],
   "source": [
    "list_5q = np.loadtxt(\"5q_persid.txt\")"
   ]
  },
  {
   "cell_type": "code",
   "execution_count": 6,
   "id": "6150ea8d",
   "metadata": {},
   "outputs": [],
   "source": [
    "list_both = np.intersect1d(list_2q,list_5q)"
   ]
  },
  {
   "cell_type": "code",
   "execution_count": 9,
   "id": "761cc5d7",
   "metadata": {},
   "outputs": [
    {
     "data": {
      "text/plain": [
       "(357030,)"
      ]
     },
     "execution_count": 9,
     "metadata": {},
     "output_type": "execute_result"
    }
   ],
   "source": [
    "list_both.shape"
   ]
  },
  {
   "cell_type": "code",
   "execution_count": 14,
   "id": "fd09a963",
   "metadata": {},
   "outputs": [],
   "source": [
    "list_not_5q = np.setdiff1d(list_2q,list_5q)\n",
    "#yields the elements in `list_2q` that are NOT in `list_5q`"
   ]
  },
  {
   "cell_type": "code",
   "execution_count": 15,
   "id": "4fce488f",
   "metadata": {},
   "outputs": [
    {
     "data": {
      "text/plain": [
       "(416064,)"
      ]
     },
     "execution_count": 15,
     "metadata": {},
     "output_type": "execute_result"
    }
   ],
   "source": [
    "list_not_5q.shape"
   ]
  },
  {
   "cell_type": "code",
   "execution_count": 18,
   "id": "4c68965d",
   "metadata": {},
   "outputs": [],
   "source": [
    "with open('2q_not_5q.txt', 'w') as f:\n",
    "    f.write(np..array2string(list_not_5q)"
   ]
  },
  {
   "cell_type": "code",
   "execution_count": 30,
   "id": "3c16df52",
   "metadata": {},
   "outputs": [],
   "source": [
    "np.savetxt('2q_not_5q.txt',list_not_5q,fmt='%i')"
   ]
  },
  {
   "cell_type": "code",
   "execution_count": 28,
   "id": "0961d2bc",
   "metadata": {},
   "outputs": [
    {
     "data": {
      "text/plain": [
       "array([1.01010101e+10, 1.01010101e+10, 1.01010401e+10, ...,\n",
       "       9.60139404e+12, 9.60139405e+12, 9.60139407e+12])"
      ]
     },
     "execution_count": 28,
     "metadata": {},
     "output_type": "execute_result"
    }
   ],
   "source": []
  },
  {
   "cell_type": "code",
   "execution_count": 26,
   "id": "af183a4c",
   "metadata": {},
   "outputs": [
    {
     "ename": "TypeError",
     "evalue": "only size-1 arrays can be converted to Python scalars",
     "output_type": "error",
     "traceback": [
      "\u001b[0;31m---------------------------------------------------------------------------\u001b[0m",
      "\u001b[0;31mTypeError\u001b[0m                                 Traceback (most recent call last)",
      "\u001b[0;32m<ipython-input-26-c748d88685cd>\u001b[0m in \u001b[0;36m<module>\u001b[0;34m\u001b[0m\n\u001b[0;32m----> 1\u001b[0;31m \u001b[0mint\u001b[0m\u001b[0;34m(\u001b[0m\u001b[0mlist_not_5q\u001b[0m\u001b[0;34m)\u001b[0m\u001b[0;34m\u001b[0m\u001b[0;34m\u001b[0m\u001b[0m\n\u001b[0m",
      "\u001b[0;31mTypeError\u001b[0m: only size-1 arrays can be converted to Python scalars"
     ]
    }
   ],
   "source": []
  },
  {
   "cell_type": "code",
   "execution_count": 33,
   "id": "dbe66ca0",
   "metadata": {},
   "outputs": [],
   "source": [
    "total2q = 1433662. +21764. + 28124."
   ]
  },
  {
   "cell_type": "code",
   "execution_count": 37,
   "id": "eeab80d6",
   "metadata": {},
   "outputs": [
    {
     "data": {
      "text/plain": [
       "1.4670216709918775"
      ]
     },
     "execution_count": 37,
     "metadata": {},
     "output_type": "execute_result"
    }
   ],
   "source": [
    "100*21764./total2q\n"
   ]
  },
  {
   "cell_type": "code",
   "execution_count": 36,
   "id": "315d8e7e",
   "metadata": {},
   "outputs": [
    {
     "data": {
      "text/plain": [
       "1.8957230966263354"
      ]
     },
     "execution_count": 36,
     "metadata": {},
     "output_type": "execute_result"
    }
   ],
   "source": [
    "100*28124./total2q"
   ]
  },
  {
   "cell_type": "code",
   "execution_count": null,
   "id": "2a33d4b6",
   "metadata": {},
   "outputs": [],
   "source": []
  }
 ],
 "metadata": {
  "kernelspec": {
   "display_name": "Python 3",
   "language": "python",
   "name": "python3"
  },
  "language_info": {
   "codemirror_mode": {
    "name": "ipython",
    "version": 3
   },
   "file_extension": ".py",
   "mimetype": "text/x-python",
   "name": "python",
   "nbconvert_exporter": "python",
   "pygments_lexer": "ipython3",
   "version": "3.8.8"
  }
 },
 "nbformat": 4,
 "nbformat_minor": 5
}
